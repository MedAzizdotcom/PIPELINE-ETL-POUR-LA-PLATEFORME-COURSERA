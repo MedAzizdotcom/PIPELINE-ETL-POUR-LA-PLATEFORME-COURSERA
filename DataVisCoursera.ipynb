{
  "nbformat": 4,
  "nbformat_minor": 0,
  "metadata": {
    "colab": {
      "private_outputs": true,
      "provenance": []
    },
    "kernelspec": {
      "name": "python3",
      "display_name": "Python 3"
    },
    "language_info": {
      "name": "python"
    }
  },
  "cells": [
    {
      "cell_type": "code",
      "execution_count": null,
      "metadata": {
        "id": "DUYalLOfKSiz"
      },
      "outputs": [],
      "source": [
        "import pandas as pd\n",
        "df=pd.read_csv('/content/date (1).csv')"
      ]
    },
    {
      "cell_type": "code",
      "source": [
        "df.head()"
      ],
      "metadata": {
        "id": "LJpREtFUKtHO"
      },
      "execution_count": null,
      "outputs": []
    },
    {
      "cell_type": "code",
      "source": [
        "import matplotlib.pyplot as plt\n",
        "plt.figure(figsize=(10, 6))\n",
        "plt.plot(df['id_date'], df['année'], label='Année')\n",
        "plt.plot(df['id_date'], df['mois'], label='Mois')\n",
        "plt.plot(df['id_date'], df['jour'], label='Jour')\n",
        "plt.xlabel('ID Date')\n",
        "plt.ylabel('Valeurs')\n",
        "plt.title('Visualisation des données')\n",
        "plt.legend()\n",
        "plt.show()"
      ],
      "metadata": {
        "id": "kNuY5WkfKvIw"
      },
      "execution_count": null,
      "outputs": []
    },
    {
      "cell_type": "code",
      "source": [
        "# Compter le nombre d'occurrences de chaque année\n",
        "année_counts = df['année'].value_counts()\n",
        "\n",
        "# Trier les années par ordre croissant\n",
        "année_counts = année_counts.sort_index()\n",
        "\n",
        "# Créer un histogramme des années\n",
        "plt.figure(figsize=(10, 6))\n",
        "plt.bar(année_counts.index, année_counts.values, color='skyblue')\n",
        "plt.xlabel('Année')\n",
        "plt.ylabel('Nombre d\\'occurrences')\n",
        "plt.title('Distribution des données par année')\n",
        "plt.xticks(année_counts.index)\n",
        "plt.grid(axis='y', linestyle='--', alpha=0.7)\n",
        "plt.show()"
      ],
      "metadata": {
        "id": "GwEvCZ3GLQpe"
      },
      "execution_count": null,
      "outputs": []
    },
    {
      "cell_type": "code",
      "source": [
        "# Créer un histogramme pour les mois\n",
        "plt.figure(figsize=(8, 6))\n",
        "plt.hist(df['mois'], bins=12, color='skyblue', edgecolor='black', alpha=0.7)\n",
        "plt.title('Répartition des données par mois')\n",
        "plt.xlabel('Mois')\n",
        "plt.ylabel('Nombre de données')\n",
        "plt.xticks(range(1, 13))\n",
        "plt.grid(axis='y', linestyle='--', alpha=0.7)\n",
        "plt.show()"
      ],
      "metadata": {
        "id": "VJbqxKevLrRZ"
      },
      "execution_count": null,
      "outputs": []
    },
    {
      "cell_type": "code",
      "source": [
        "df1=pd.read_excel('/content/PostDimension (1).xlsx')"
      ],
      "metadata": {
        "id": "IGeg76MpL8e_"
      },
      "execution_count": null,
      "outputs": []
    },
    {
      "cell_type": "code",
      "source": [
        "df1.head()"
      ],
      "metadata": {
        "id": "CZBnF6xXMV8w"
      },
      "execution_count": null,
      "outputs": []
    },
    {
      "cell_type": "code",
      "source": [
        "df1[['Message']]"
      ],
      "metadata": {
        "id": "iZiCImtzNWRF"
      },
      "execution_count": null,
      "outputs": []
    },
    {
      "cell_type": "code",
      "source": [
        "df1['Message'] = df1['Message'].astype(str)\n",
        "\n",
        "\n",
        "all_messages = ' '.join(df1['Message'])\n",
        "all_messages"
      ],
      "metadata": {
        "id": "PWAxeYN-Ntd8"
      },
      "execution_count": null,
      "outputs": []
    },
    {
      "cell_type": "code",
      "source": [
        "from collections import Counter\n",
        "words = all_messages.split()\n",
        "word_freq = Counter(words)\n",
        "top_words = word_freq.most_common(50)\n",
        "top_words_df = pd.DataFrame(top_words, columns=['Mot', 'Fréquence'])\n",
        "plt.figure(figsize=(15, 6))\n",
        "plt.bar(top_words_df['Mot'], top_words_df['Fréquence'], color='skyblue')\n",
        "plt.xlabel('Mots')\n",
        "plt.ylabel('Fréquence')\n",
        "plt.title('Les 50 mots les plus fréquents dans les messages')\n",
        "plt.xticks(rotation=45, ha='right')\n",
        "plt.tight_layout()\n",
        "plt.show()"
      ],
      "metadata": {
        "id": "Bu5bksniN2TH"
      },
      "execution_count": null,
      "outputs": []
    },
    {
      "cell_type": "code",
      "source": [
        "top_words_df = pd.DataFrame(top_words, columns=['Mot', 'Fréquence'])\n",
        "top_words_df['Mot'].tolist()"
      ],
      "metadata": {
        "id": "i5KyL37qQAyA"
      },
      "execution_count": null,
      "outputs": []
    },
    {
      "cell_type": "code",
      "source": [
        "from wordcloud import WordCloud\n",
        "import matplotlib.pyplot as plt\n",
        "\n",
        "\n",
        "\n",
        "# Créer un nuage de mots\n",
        "wordcloud = WordCloud(width=800, height=400, background_color='white').generate(all_messages)\n",
        "\n",
        "# Afficher le nuage de mots\n",
        "plt.figure(figsize=(10, 6))\n",
        "plt.imshow(wordcloud, interpolation='bilinear')\n",
        "plt.title('Nuage de Mots')\n",
        "plt.axis('off')\n",
        "plt.show()\n"
      ],
      "metadata": {
        "id": "mB_cSizcRnaD"
      },
      "execution_count": null,
      "outputs": []
    },
    {
      "cell_type": "code",
      "source": [
        "df2=pd.read_csv('/content/fait (1).csv')"
      ],
      "metadata": {
        "id": "hGyCFHLlR6OE"
      },
      "execution_count": null,
      "outputs": []
    },
    {
      "cell_type": "code",
      "source": [
        "df2.head()"
      ],
      "metadata": {
        "id": "Pe02uGSmSWAN"
      },
      "execution_count": null,
      "outputs": []
    },
    {
      "cell_type": "code",
      "source": [
        "result = pd.concat([df1, df2], axis=1)"
      ],
      "metadata": {
        "id": "rrzb_EcDUheW"
      },
      "execution_count": null,
      "outputs": []
    },
    {
      "cell_type": "code",
      "source": [
        "result"
      ],
      "metadata": {
        "id": "69gwaX7VUiMx"
      },
      "execution_count": null,
      "outputs": []
    },
    {
      "cell_type": "code",
      "source": [
        "import matplotlib.pyplot as plt\n",
        "\n",
        "# Tri des données par ordre décroissant de Comments Count\n",
        "df_sorted_comments = result.sort_values(by='Comments Count', ascending=False)\n",
        "\n",
        "# Sélection des 10 premières lignes avec les Comment Count les plus élevés\n",
        "top_comments = df_sorted_comments.head(10)"
      ],
      "metadata": {
        "id": "tZdoPLWqVilg"
      },
      "execution_count": null,
      "outputs": []
    },
    {
      "cell_type": "code",
      "source": [
        "# Tri des données par ordre décroissant de Reactions Count\n",
        "df_sorted_reactions = result.sort_values(by='Reactions Count', ascending=False)\n",
        "\n",
        "# Sélection des 10 premières lignes avec les Reactions Count les plus élevés\n",
        "top_reactions = df_sorted_reactions.head(10)"
      ],
      "metadata": {
        "id": "i3UfSea7VqMb"
      },
      "execution_count": null,
      "outputs": []
    },
    {
      "cell_type": "code",
      "source": [
        "# Tri des données par ordre décroissant de Shares Count\n",
        "df_sorted_shares = result.sort_values(by='Shares Count', ascending=False)\n",
        "\n",
        "# Sélection des 10 premières lignes avec les Shares Count les plus élevés\n",
        "top_shares = df_sorted_shares.head(10)"
      ],
      "metadata": {
        "id": "5idPeEyFVw7A"
      },
      "execution_count": null,
      "outputs": []
    },
    {
      "cell_type": "code",
      "source": [
        "# Création du graphique à barres horizontales pour les 10 premiers messages avec les Comment Count les plus élevés\n",
        "plt.figure(figsize=(10, 6))\n",
        "plt.barh(top_comments['Message'], top_comments['Comments Count'], color='blue')\n",
        "plt.xlabel('Nombre de commentaires')\n",
        "plt.ylabel('Message')\n",
        "plt.title('Top 10 des messages avec le plus de commentaires')\n",
        "plt.gca().invert_yaxis()  # Inversion de l'axe y pour afficher le message avec le plus de commentaires en haut\n",
        "plt.show()"
      ],
      "metadata": {
        "id": "K3AApLSQV55J"
      },
      "execution_count": null,
      "outputs": []
    },
    {
      "cell_type": "code",
      "source": [
        "# Création du graphique à barres horizontales pour les 10 premiers messages avec les Comment Count les plus élevés\n",
        "plt.figure(figsize=(10, 6))\n",
        "plt.barh(top_comments['Message'], top_comments['Comments Count'], color='blue')\n",
        "plt.xlabel('Nombre de commentaires')\n",
        "plt.ylabel('Message')\n",
        "plt.title('Top 10 des messages avec le plus de commentaires')\n",
        "plt.gca().invert_yaxis()  # Inversion de l'axe y pour afficher le message avec le plus de commentaires en haut\n",
        "plt.show()"
      ],
      "metadata": {
        "id": "3cVH09tSWBt3"
      },
      "execution_count": null,
      "outputs": []
    },
    {
      "cell_type": "code",
      "source": [
        "# Création du graphique à barres horizontales pour les 10 premiers messages avec les Reactions Count les plus élevés\n",
        "plt.figure(figsize=(10, 6))\n",
        "plt.barh(top_reactions['Message'], top_reactions['Reactions Count'], color='green')\n",
        "plt.xlabel('Nombre de réactions')\n",
        "plt.ylabel('Message')\n",
        "plt.title('Top 10 des messages avec le plus de réactions')\n",
        "plt.gca().invert_yaxis()  # Inversion de l'axe y pour afficher le message avec le plus de réactions en haut\n",
        "plt.show()"
      ],
      "metadata": {
        "id": "-OnSus2JWHPV"
      },
      "execution_count": null,
      "outputs": []
    },
    {
      "cell_type": "code",
      "source": [
        "# Création du graphique à barres horizontales pour les 10 premiers messages avec les Shares Count les plus élevés\n",
        "plt.figure(figsize=(10, 6))\n",
        "plt.barh(top_shares['Message'], top_shares['Shares Count'], color='orange')\n",
        "plt.xlabel('Nombre de partages')\n",
        "plt.ylabel('Message')\n",
        "plt.title('Top 10 des messages avec le plus de partages')\n",
        "plt.gca().invert_yaxis()  # Inversion de l'axe y pour afficher le message avec le plus de partages en haut\n",
        "plt.show()"
      ],
      "metadata": {
        "id": "JO_DMUoSUjGK"
      },
      "execution_count": null,
      "outputs": []
    },
    {
      "cell_type": "code",
      "source": [
        "import matplotlib.pyplot as plt\n",
        "\n",
        "# Tri des données par ordre décroissant de Comments Count\n",
        "df_sorted_comments = result.sort_values(by='Comments Count', ascending=False)\n",
        "\n",
        "# Sélection des 10 premières lignes avec les Comment Count les plus élevés\n",
        "top_comments = df_sorted_comments.head(10)\n",
        "\n",
        "# Tri des données par ordre décroissant de Reactions Count\n",
        "df_sorted_reactions = result.sort_values(by='Reactions Count', ascending=False)\n",
        "\n",
        "# Sélection des 10 premières lignes avec les Reactions Count les plus élevés\n",
        "top_reactions = df_sorted_reactions.head(10)\n",
        "\n",
        "# Tri des données par ordre décroissant de Shares Count\n",
        "df_sorted_shares = result.sort_values(by='Shares Count', ascending=False)\n",
        "\n",
        "# Sélection des 10 premières lignes avec les Shares Count les plus élevés\n",
        "top_shares = df_sorted_shares.head(10)\n"
      ],
      "metadata": {
        "id": "nqZ2I0exXFKE"
      },
      "execution_count": null,
      "outputs": []
    },
    {
      "cell_type": "code",
      "source": [
        "# Création du graphique à barres horizontales pour les 10 premiers messages avec les Comment Count les plus élevés\n",
        "plt.figure(figsize=(10, 6))\n",
        "plt.barh(top_comments['id_post'], top_comments['Comments Count'], color='blue')\n",
        "plt.xlabel('Nombre de commentaires')\n",
        "plt.ylabel('ID de la publication')\n",
        "plt.title('Top 10 des publications avec le plus de commentaires')\n",
        "plt.gca().invert_yaxis()  # Inversion de l'axe y pour afficher la publication avec le plus de commentaires en haut\n",
        "plt.show()\n",
        "\n",
        "# Création du graphique à barres horizontales pour les 10 premiers messages avec les Reactions Count les plus élevés\n",
        "plt.figure(figsize=(10, 6))\n",
        "plt.barh(top_reactions['id_post'], top_reactions['Reactions Count'], color='green')\n",
        "plt.xlabel('Nombre de réactions')\n",
        "plt.ylabel('ID de la publication')\n",
        "plt.title('Top 10 des publications avec le plus de réactions')\n",
        "plt.gca().invert_yaxis()  # Inversion de l'axe y pour afficher la publication avec le plus de réactions en haut\n",
        "plt.show()\n",
        "\n",
        "# Création du graphique à barres horizontales pour les 10 premiers messages avec les Shares Count les plus élevés\n",
        "plt.figure(figsize=(10, 6))\n",
        "plt.barh(top_shares['id_post'], top_shares['Shares Count'], color='orange')\n",
        "plt.xlabel('Nombre de partages')\n",
        "plt.ylabel('ID de la publication')\n",
        "plt.title('Top 10 des publications avec le plus de partages')\n",
        "plt.gca().invert_yaxis()  # Inversion de l'axe y pour afficher la publication avec le plus de partages en haut\n",
        "plt.show()\n"
      ],
      "metadata": {
        "id": "GtAoJynSWJds"
      },
      "execution_count": null,
      "outputs": []
    },
    {
      "cell_type": "code",
      "source": [
        "import matplotlib.pyplot as plt\n",
        "\n",
        "# Tri des données par ordre décroissant de Reactions Count\n",
        "df_sorted_reactions = result.sort_values(by='Reactions Count', ascending=False)\n",
        "\n",
        "# Sélection des 10 premières lignes avec les Reactions Count les plus élevés\n",
        "top_reactions = df_sorted_reactions.head(10)\n",
        "\n",
        "# Création du graphique à barres horizontales pour les 10 premiers messages avec les Reactions Count les plus élevés\n",
        "plt.figure(figsize=(10, 14))\n",
        "bars = plt.barh(top_reactions['id_post'], top_reactions['Reactions Count'], color='green')\n",
        "\n",
        "# Ajout de l'identifiant de message devant chaque barre\n",
        "for bar, post_id in zip(bars, top_reactions['id_post']):\n",
        "    plt.text(bar.get_width() + 10, bar.get_y() + bar.get_height()/2, post_id, va='center')\n",
        "\n",
        "plt.xlabel('Nombre de réactions')\n",
        "plt.ylabel('ID de la publication')\n",
        "plt.title('Top 10 des publications avec le plus de réactions')\n",
        "plt.gca().invert_yaxis()  # Inversion de l'axe y pour afficher la publication avec le plus de réactions en haut\n",
        "plt.show()"
      ],
      "metadata": {
        "id": "v8Az2U3VXIU6"
      },
      "execution_count": null,
      "outputs": []
    },
    {
      "cell_type": "code",
      "source": [
        "import matplotlib.pyplot as plt\n",
        "\n",
        "# Tri des données par ordre décroissant de Reactions Count\n",
        "df_sorted_reactions = result.sort_values(by='Comments Count', ascending=False)\n",
        "\n",
        "# Sélection des 10 premières lignes avec les Reactions Count les plus élevés\n",
        "top_reactions = df_sorted_reactions.head(10)\n",
        "\n",
        "# Création du graphique à barres horizontales pour les 10 premiers messages avec les Reactions Count les plus élevés\n",
        "plt.figure(figsize=(12, 14))\n",
        "bars = plt.barh(top_reactions['id_post'], top_reactions['Comments Count'], color='orange')\n",
        "\n",
        "# Ajout de l'identifiant de message devant chaque barre\n",
        "for bar, post_id in zip(bars, top_reactions['id_post']):\n",
        "    plt.text(bar.get_width() + 10, bar.get_y() + bar.get_height()/2, post_id, va='center')\n",
        "\n",
        "plt.xlabel('Nombre de commentaires')\n",
        "plt.ylabel('ID de la publication')\n",
        "plt.title('Top 10 des publications avec le plus de commentaires')\n",
        "plt.gca().invert_yaxis()  # Inversion de l'axe y pour afficher la publication avec le plus de réactions en haut\n",
        "plt.show()"
      ],
      "metadata": {
        "id": "5_3_XQ0rYVnY"
      },
      "execution_count": null,
      "outputs": []
    },
    {
      "cell_type": "code",
      "source": [
        "import matplotlib.pyplot as plt\n",
        "\n",
        "# Tri des données par ordre décroissant de Reactions Count\n",
        "df_sorted_reactions = result.sort_values(by='Shares Count', ascending=False)\n",
        "\n",
        "# Sélection des 10 premières lignes avec les Reactions Count les plus élevés\n",
        "top_reactions = df_sorted_reactions.head(10)\n",
        "\n",
        "# Création du graphique à barres horizontales pour les 10 premiers messages avec les Reactions Count les plus élevés\n",
        "plt.figure(figsize=(12, 14))\n",
        "bars = plt.barh(top_reactions['id_post'], top_reactions['Shares Count'], color='blue')\n",
        "\n",
        "# Ajout de l'identifiant de message devant chaque barre\n",
        "for bar, post_id in zip(bars, top_reactions['id_post']):\n",
        "    plt.text(bar.get_width() + 10, bar.get_y() + bar.get_height()/2, post_id, va='center')\n",
        "\n",
        "plt.xlabel('Nombre de partages')\n",
        "plt.ylabel('ID de la publication')\n",
        "plt.title('Top 10 des publications avec le plus de partages')\n",
        "plt.gca().invert_yaxis()  # Inversion de l'axe y pour afficher la publication avec le plus de réactions en haut\n",
        "plt.show()"
      ],
      "metadata": {
        "id": "ApSgYt6lZMBX"
      },
      "execution_count": null,
      "outputs": []
    }
  ]
}